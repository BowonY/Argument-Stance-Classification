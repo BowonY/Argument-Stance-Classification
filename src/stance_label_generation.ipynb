{
 "cells": [
  {
   "cell_type": "code",
   "execution_count": 1,
   "metadata": {
    "collapsed": true
   },
   "outputs": [],
   "source": [
    "import util.dataloader.IACDataLoader as iac"
   ]
  },
  {
   "cell_type": "code",
   "execution_count": 2,
   "metadata": {},
   "outputs": [
    {
     "name": "stdout",
     "output_type": "stream",
     "text": [
      "Loading dataset files...\n",
      "5000 dicussions were loaded\n",
      "10000 dicussions were loaded\n",
      "11799 dicussions were loaded\n",
      "Loading topic file...\n",
      "Loading author stance file...\n"
     ]
    }
   ],
   "source": [
    "dataloader = iac.IACDataLoader()\n",
    "dataloader.set_dataset_dir(\"dataset/discussions\")\n",
    "dataloader.set_topic_filepath(\"dataset/topic.csv\")\n",
    "dataloader.set_stance_filepath(\"dataset/author_stance.csv\")\n",
    "dataloader.load()\n",
    "topic_dict = dataloader.get_topic_dict()\n",
    "d_dict = dataloader.get_discussion_dict()\n",
    "d_author_stance_dict = dataloader.get_discussion_author_stance_dict() # added\n",
    "\n",
    "topic_list = sorted(topic_dict.keys())"
   ]
  },
  {
   "cell_type": "code",
   "execution_count": 6,
   "metadata": {
    "collapsed": true
   },
   "outputs": [],
   "source": [
    "files = dict()\n",
    "for topic in topic_dict.keys():\n",
    "    topic_s = topic.replace(' ', '-')\n",
    "    files[topic] = {'pro': open('stance/'+topic_s+'.pro.txt', 'w'),\n",
    "                    'anti': open('stance/'+topic_s+'.anti.txt', 'w'),\n",
    "                    'other': open('stance/'+topic_s+'.other.txt', 'w')}"
   ]
  },
  {
   "cell_type": "code",
   "execution_count": 7,
   "metadata": {},
   "outputs": [],
   "source": [
    "for topic in topic_dict.keys():\n",
    "    for d_id in topic_dict[topic]:\n",
    "        post_list = d_dict[d_id].get_posts()\n",
    "        for post in post_list:\n",
    "            author = post.get_author()\n",
    "            text = post.get_raw_text().replace('\\n','')\n",
    "            if d_id in d_author_stance_dict.keys():\n",
    "                if author in d_author_stance_dict[d_id].keys():\n",
    "                    stance = d_author_stance_dict[d_id][author]\n",
    "                    files[topic][stance].write(text+'\\n')"
   ]
  }
 ],
 "metadata": {
  "kernelspec": {
   "display_name": "Python 3",
   "language": "python",
   "name": "python3"
  },
  "language_info": {
   "codemirror_mode": {
    "name": "ipython",
    "version": 3
   },
   "file_extension": ".py",
   "mimetype": "text/x-python",
   "name": "python",
   "nbconvert_exporter": "python",
   "pygments_lexer": "ipython3",
   "version": "3.5.3"
  }
 },
 "nbformat": 4,
 "nbformat_minor": 2
}
