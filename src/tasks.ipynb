{
 "cells": [
  {
   "cell_type": "markdown",
   "metadata": {},
   "source": [
    "# Tasks"
   ]
  },
  {
   "cell_type": "markdown",
   "metadata": {},
   "source": [
    "## Task 1: Predict the topic labels of discussions"
   ]
  },
  {
   "cell_type": "markdown",
   "metadata": {},
   "source": [
    "### Purpose\n",
    "\n",
    "We apply the natural language technologies, such as n-gram and stemming, we've learned in class to generate useful features and evaluate their effectiveness on classifying argument discussions into 10 labeled topic groups. The architecture for this task is as below:\n",
    "\n",
    "![alt text](imgs/task1-arch.png \"Architecture\")\n",
    "\n",
    "According to our observation, people often use different keywords when discussing different topics. We develop a keyword-based approach to classify dicussions into topics. The intuition is to identify keywords that are not frequently used for each topic, so we can classify a discussion based on the keywords used in it."
   ]
  },
  {
   "cell_type": "markdown",
   "metadata": {},
   "source": [
    "### Preprocessing\n",
    "\n",
    "For each discussion, \n",
    "1. We filtered characters that are neither numbers nor english letters (e.g. \"[A-Za-z0-9]\" in regular expression). \n",
    "2. We filtered stopwords in text. The stopword list, which contains 2,400 stopwords for 11 languages, is from the stopword corpus created by Porter et al. (2001). \n",
    "3. We adopted Porter stemmer to convert words in dicussions to their stemmed form. There are 98,988 distinct stems used in our dataset.\n",
    "4. We took the stems as unigrams and built an unigram occurrence vector as the representation of discussion.\n",
    "\n",
    "Since the number of unigrams is large, most of representation vectors are sparse. It is an known issue which may affect classification performance. Our future goal would be adopt some dimension reduction methods to reduce the size of feature vectors."
   ]
  },
  {
   "cell_type": "markdown",
   "metadata": {},
   "source": [
    "### Topic Classification\n",
    "\n",
    "\n",
    "| Topic        | # of discussions  |\n",
    "| ------------- |:-------------:|\n",
    "| abortion | 564 |\n",
    "| climate change | 40 |\n",
    "| communism vs capitalism | 38 |\n",
    "| death penalty | 25 |\n",
    "| evolution | 871 |\n",
    "| existence of God | 105 |\n",
    "| gay marriage | 305 |\n",
    "| gun control | 824 |\n",
    "| healthcare | 81 |\n",
    "| marijuana legalization | 13 |\n",
    "\n",
    "The above figure shows the distribution of topics. We split the dataset into 75% stratified training data and 25% testing data. We trained a multi-class SVM model with linear kernel (LIBSVM, proposed by Chang et al., 2011). The experiment was conducted in 5-fold cross validation. The following are the accuaracy values of cross validation:\n",
    "\n",
    "| 1 round accuracy  | 2 round accuracy  | 3 round accuracy  | 4 round accuracy  | 5 round accuracy  | Mean accuracy |\n",
    "| ------------- |:-------------|:-------------|:-------------|:-------------|:-------------:|\n",
    "| 0.885416666667 | 0.883275261324 | 0.858885017422 | 0.867132867133 | 0.884210526316 | 0.8757840677721935 |\n",
    "\n",
    "\n",
    "The average accuracy of our result is 87.58%, which indicates the unigram occurrance representation is significantly effective in this task. Keyword-based representation performs well to recognize the topic of discussions.\n",
    "\n"
   ]
  },
  {
   "cell_type": "markdown",
   "metadata": {},
   "source": [
    "## Task 2: Identify author stance in discussions with Doc2Vec"
   ]
  },
  {
   "cell_type": "markdown",
   "metadata": {},
   "source": [
    "### Purpose\n",
    "\n",
    "\n",
    "In a discussion, authors express their different stances toward a topic. We want to discover how to effectively identify an author's stance in a discussion based on his posts. Since the IAC dataset contains the annotations of author stance for discussions, we try to convert author posts in discussion to Doc2Vec (Le and Mikolov, 2014) representation and evaluate if the representation is effective on identifying user stance.\n",
    "\n",
    "In our analysis, we peformed both clustering and classification to evaluate the performance of the Doc2Vec features."
   ]
  },
  {
   "cell_type": "markdown",
   "metadata": {},
   "source": [
    "### Preprocessing\n",
    "\n",
    "For each discussion, we first identify the authors. For each author, we first filtered characters that are neither numbers nor english letters (e.g. \"[A-Za-z0-9]\" in regular expression) in his posts. All filtered posts were concatenated and converted to a Doc2Vec vector.\n",
    "\n",
    "In IAC dataset, the author stance on a discussion is recorded as a combination of votes from annotators. Each annotator can vote \"pro\", \"anti\", or \"other\". We use the following rules to consider the majority vote as the label of author stance:\n",
    "- If the number of \"pro\" votes equals to \"anti\", or \"other\" dominates, choose \"other\" as the stance label.\n",
    "- If \"pro\" dominates, choose \"pro\" as the stance label.\n",
    "- If \"anti\" dominates, choose \"anti\" as the stance label."
   ]
  },
  {
   "cell_type": "markdown",
   "metadata": {},
   "source": [
    "### Analysis by Kmeans clustering\n",
    "\n",
    "We perform K-means clustering (Kanungo et al., 2002) with K=3 for every topic respectively. Our metrics is Adjusted Mutual Infomation Score (Vinh et al., 2010). The value of AMI is used to evaluate the extent of shared information between two clustering results. Below is the results of different topics:\n",
    "\n",
    "| Topic | Adjusted Mutual Infomation Score (AMI) |\n",
    "| ------------- |:-------------:|\n",
    "| gay marriage | 0.00698645511313198 |\n",
    "| existence of God | 0.016446639162490496 |\n",
    "| death penalty | 0.008976145629304096 |\n",
    "| abortion | 0.00410753125937423 |\n",
    "| climate change | -0.0002261692372829449 |\n",
    "| healthcare | 0.005124345023058839 |\n",
    "| evolution | 0.08299409157326207 |\n",
    "| communism vs capitalism | 0.04538428687976163 |\n",
    "| gun control | 0.0029354720744514434 |\n",
    "| marijuana legalization | 0.06779748379608597 |\n",
    "\n",
    "According to the results, using Doc2Vec representation stand-alone is not effective on identifying author stance in discussions.\n"
   ]
  },
  {
   "cell_type": "markdown",
   "metadata": {},
   "source": [
    "### Analysis by SVM classification\n",
    "\n",
    "We follow the same settings in task 1 to train a three-class SVM model. The following are the accuracy values of 5-fold cross validation in different topics:\n",
    "\n",
    "| Topic        | 1 round accuracy  | 2 round accuracy  | 3 round accuracy  | 4 round accuracy  | 5 round accuracy  | Mean accuracy |\n",
    "| ------------- |:-------------|:-------------|:-------------|:-------------|:-------------|:-------------:|\n",
    "| communism vs capitalism | 0.6 | 0.7925925926 | 0.5671641791 | 0.6390977444 | 0.5454545455 | 0.6288618123 |\n",
    "| marijuana legalization | 0.6465517241 | 0.6637931034 | 0.7543859649 | 0.7876106195 | 0.7256637168 | 0.7156010258 |\n",
    "| death penalty | 0.4538745387 | 0.5444444444 | 0.4721189591 | 0.4646840149 | 0.4589552239 | 0.4788154362 |\n",
    "| climate change | 0.4829931973 | 0.4794520548 | 0.4965517241 | 0.4206896552 | 0.3333333333 | 0.4426039929 |\n",
    "| existence of God | 0.4344163658 | 0.4843373494 | 0.4542168675 | 0.4909529554 | 0.4685990338 | 0.4665045144 |\n",
    "| healthcare | 0.6 | 0.4428571429 | 0.3857142857 | 0.6231884058 | 0.5735294118 | 0.5250578492 |\n",
    "| gun control | 0.642765685 | 0.4628205128 | 0.5217948718 | 0.5481386393 | 0.5468549422 | 0.5444749302 |\n",
    "| abortion | 0.4704433498 | 0.4568965517 | 0.5289765721 | 0.4358816276 | 0.5147965475 | 0.4813989297 |\n",
    "| gay marriage | 0.6481876333 | 0.5896159317 | 0.6324786325 | 0.5861823362 | 0.5961538462 | 0.610523676 |\n",
    "| evolution | 0.598546042 | 0.5331179321 | 0.598546042 | 0.5828617623 | 0.6437246964 | 0.591359295 |\n",
    "\n",
    "The classification results show the Doc2Vec representation only performs  in most of topics."
   ]
  }
 ],
 "metadata": {
  "kernelspec": {
   "display_name": "Python 3",
   "language": "python",
   "name": "python3"
  },
  "language_info": {
   "codemirror_mode": {
    "name": "ipython",
    "version": 3
   },
   "file_extension": ".py",
   "mimetype": "text/x-python",
   "name": "python",
   "nbconvert_exporter": "python",
   "pygments_lexer": "ipython3",
   "version": "3.5.2"
  }
 },
 "nbformat": 4,
 "nbformat_minor": 2
}
